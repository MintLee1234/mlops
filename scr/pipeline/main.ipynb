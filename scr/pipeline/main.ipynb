{
 "cells": [
  {
   "cell_type": "code",
   "execution_count": 1,
   "metadata": {},
   "outputs": [],
   "source": [
    "import sys\n",
    "import os\n",
    "import dotenv\n",
    "import pandas as pd\n",
    "import numpy as np\n",
    "# Thêm thư mục cha của 'scr' vào sys.path\n",
    "sys.path.append(os.path.abspath(os.path.join(os.getcwd(), '../../')))"
   ]
  },
  {
   "cell_type": "code",
   "execution_count": 2,
   "metadata": {},
   "outputs": [],
   "source": [
    "from scr.component.data_ingestion import DataIngestion\n",
    "from scr.component.data_transform import DataTransformation"
   ]
  },
  {
   "cell_type": "code",
   "execution_count": null,
   "metadata": {},
   "outputs": [],
   "source": [
    "if __name__ == \"__main__\":\n",
    "    dotenv.load_dotenv(override=True) \n",
    "\n",
    "    mongo_uri = os.getenv(\"MONGO_URI\")\n",
    "    db_name = os.getenv(\"DB_NAME\")\n",
    "    collection_name = os.getenv(\"COLLECTION_NAME\")\n",
    "    csv_file_path = os.getenv(\"CSV_FILE\")\n",
    "\n",
    "    data_ingestion = DataIngestion(mongo_uri, db_name, collection_name)\n",
    "\n",
    "    df = data_ingestion.download_data_from_mongodb()\n",
    "\n",
    "    "
   ]
  },
  {
   "cell_type": "code",
   "execution_count": 4,
   "metadata": {},
   "outputs": [
    {
     "name": "stdout",
     "output_type": "stream",
     "text": [
      "<class 'pandas.core.frame.DataFrame'>\n",
      "RangeIndex: 37010 entries, 0 to 37009\n",
      "Data columns (total 22 columns):\n",
      " #   Column                        Non-Null Count  Dtype  \n",
      "---  ------                        --------------  -----  \n",
      " 0   user_id                       37010 non-null  object \n",
      " 1   age                           37010 non-null  int64  \n",
      " 2   gender                        36951 non-null  object \n",
      " 3   region_category               31579 non-null  object \n",
      " 4   membership_category           37010 non-null  object \n",
      " 5   joining_date                  37010 non-null  object \n",
      " 6   joined_through_referral       31568 non-null  object \n",
      " 7   preferred_offer_types         36722 non-null  object \n",
      " 8   medium_of_operation           31615 non-null  object \n",
      " 9   internet_option               37010 non-null  object \n",
      " 10  last_visit_time               37010 non-null  object \n",
      " 11  days_since_last_login         37010 non-null  int64  \n",
      " 12  avg_time_spent                37010 non-null  float64\n",
      " 13  avg_transaction_value         37010 non-null  float64\n",
      " 14  avg_frequency_login_days      37010 non-null  float64\n",
      " 15  points_in_wallet              37010 non-null  float64\n",
      " 16  used_special_discount         37010 non-null  object \n",
      " 17  offer_application_preference  37010 non-null  object \n",
      " 18  past_complaint                37010 non-null  object \n",
      " 19  complaint_status              37010 non-null  object \n",
      " 20  feedback                      37010 non-null  object \n",
      " 21  churn_risk_score              37010 non-null  int64  \n",
      "dtypes: float64(4), int64(3), object(15)\n",
      "memory usage: 6.2+ MB\n"
     ]
    }
   ],
   "source": [
    "df.info()"
   ]
  },
  {
   "cell_type": "code",
   "execution_count": 5,
   "metadata": {},
   "outputs": [
    {
     "name": "stdout",
     "output_type": "stream",
     "text": [
      "<class 'pandas.core.frame.DataFrame'>\n",
      "RangeIndex: 37010 entries, 0 to 37009\n",
      "Data columns (total 24 columns):\n",
      " #   Column                        Non-Null Count  Dtype  \n",
      "---  ------                        --------------  -----  \n",
      " 0   user_id                       37010 non-null  object \n",
      " 1   age                           37010 non-null  float64\n",
      " 2   gender                        37010 non-null  object \n",
      " 3   region_category               37010 non-null  object \n",
      " 4   membership_category           37010 non-null  object \n",
      " 5   joined_through_referral       37010 non-null  object \n",
      " 6   preferred_offer_types         37010 non-null  object \n",
      " 7   medium_of_operation           37010 non-null  object \n",
      " 8   internet_option               37010 non-null  object \n",
      " 9   recency                       37010 non-null  float64\n",
      " 10  avg_time_spent                37010 non-null  float64\n",
      " 11  monetary                      37010 non-null  float64\n",
      " 12  frequency                     37010 non-null  float64\n",
      " 13  points_in_wallet              37010 non-null  float64\n",
      " 14  used_special_discount         37010 non-null  object \n",
      " 15  offer_application_preference  37010 non-null  object \n",
      " 16  past_complaint                37010 non-null  object \n",
      " 17  complaint_status              37010 non-null  object \n",
      " 18  feedback                      37010 non-null  object \n",
      " 19  churn_risk_score              37010 non-null  int64  \n",
      " 20  tenure_months                 37010 non-null  int64  \n",
      " 21  visit_hour                    37010 non-null  int64  \n",
      " 22  login_spend_ratio             37010 non-null  float64\n",
      " 23  login_transaction_ratio       37010 non-null  float64\n",
      "dtypes: float64(8), int64(3), object(13)\n",
      "memory usage: 6.8+ MB\n",
      "None\n"
     ]
    }
   ],
   "source": [
    "data_transformation = DataTransformation(df)"
   ]
  },
  {
   "cell_type": "code",
   "execution_count": 6,
   "metadata": {},
   "outputs": [],
   "source": [
    "X_train, X_val, X_test, y_train, y_val, y_test = data_transformation.train_val_test_splitting()\n",
    "X_train_transformed, X_val_transformed, X_test_transformed, y_train, y_val, y_test = data_transformation.initiate_data_transformation(X_train, X_val, X_test, y_train, y_val, y_test)"
   ]
  }
 ],
 "metadata": {
  "kernelspec": {
   "display_name": "machine_translate",
   "language": "python",
   "name": "python3"
  },
  "language_info": {
   "codemirror_mode": {
    "name": "ipython",
    "version": 3
   },
   "file_extension": ".py",
   "mimetype": "text/x-python",
   "name": "python",
   "nbconvert_exporter": "python",
   "pygments_lexer": "ipython3",
   "version": "3.10.16"
  }
 },
 "nbformat": 4,
 "nbformat_minor": 2
}
