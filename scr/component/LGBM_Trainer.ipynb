{
 "cells": [
  {
   "cell_type": "code",
   "execution_count": 4,
   "metadata": {},
   "outputs": [
    {
     "name": "stderr",
     "output_type": "stream",
     "text": [
      "/home/minhle/miniconda3/lib/python3.12/site-packages/tqdm/auto.py:21: TqdmWarning: IProgress not found. Please update jupyter and ipywidgets. See https://ipywidgets.readthedocs.io/en/stable/user_install.html\n",
      "  from .autonotebook import tqdm as notebook_tqdm\n"
     ]
    }
   ],
   "source": [
    "from sklearn.model_selection import StratifiedKFold\n",
    "from lightgbm import LGBMClassifier\n",
    "from sklearn.metrics import f1_score\n",
    "import optuna\n",
    "import pandas as pd\n",
    "import numpy as np"
   ]
  },
  {
   "cell_type": "code",
   "execution_count": null,
   "metadata": {},
   "outputs": [],
   "source": [
    "\n",
    "\n",
    "\n",
    "class ModelTrainer:\n",
    "    def __init__(self):\n",
    "        pass\n",
    "\n",
    "    def initiate_model_trainer(self, X_train_transformed, y_train):\n",
    "\n",
    "        def objective(trial):\n",
    "            params = {\n",
    "                'random_state': 42,\n",
    "                'verbose': -1,\n",
    "                # Optuna sẽ tối ưu 3 tham số bên dưới\n",
    "                'max_depth': trial.suggest_int('max_depth', 3, 15),\n",
    "                'learning_rate': trial.suggest_float('learning_rate', 0.005, 0.2),\n",
    "                'n_estimators': trial.suggest_int('n_estimators', 50, 300)\n",
    "            }\n",
    "\n",
    "            skf = StratifiedKFold(n_splits=5, shuffle=True, random_state=42)\n",
    "            f1_scores = []\n",
    "\n",
    "            for train_idx, val_idx in skf.split(X_train_transformed, y_train):\n",
    "                X_train_fold, X_val_fold = X_train_transformed[train_idx], X_train_transformed[val_idx]\n",
    "                y_train_fold, y_val_fold = y_train.iloc[train_idx], y_train.iloc[val_idx]\n",
    "\n",
    "                model = LGBMClassifier(**params)\n",
    "                model.fit(X_train_fold, y_train_fold)\n",
    "\n",
    "                preds = model.predict(X_val_fold)\n",
    "                score = f1_score(y_val_fold, preds, average='macro')\n",
    "                f1_scores.append(score)\n",
    "\n",
    "            return np.mean(f1_scores)\n",
    "\n",
    "        # Khởi chạy Optuna\n",
    "        study = optuna.create_study(direction='maximize')\n",
    "        study.optimize(objective, n_trials=10)\n",
    "\n",
    "        print(\"Best hyperparameters:\", study.best_params)\n",
    "        print(\"Best CV Macro F1-Score:\", study.best_value)\n",
    "\n",
    "        # Huấn luyện model cuối cùng với toàn bộ dữ liệu\n",
    "        best_model = LGBMClassifier(\n",
    "            **study.best_params,\n",
    "            random_state=42,\n",
    "            verbose=-1\n",
    "        )\n",
    "        best_model.fit(X_train_transformed, y_train)\n",
    "\n",
    "        # Lưu lại nếu cần:\n",
    "        self.model = best_model\n",
    "        return self.model\n",
    "\n",
    "\n",
    "\n",
    "        "
   ]
  }
 ],
 "metadata": {
  "kernelspec": {
   "display_name": "base",
   "language": "python",
   "name": "python3"
  },
  "language_info": {
   "codemirror_mode": {
    "name": "ipython",
    "version": 3
   },
   "file_extension": ".py",
   "mimetype": "text/x-python",
   "name": "python",
   "nbconvert_exporter": "python",
   "pygments_lexer": "ipython3",
   "version": "3.12.9"
  }
 },
 "nbformat": 4,
 "nbformat_minor": 2
}
