{
 "cells": [
  {
   "cell_type": "code",
   "execution_count": null,
   "metadata": {},
   "outputs": [],
   "source": [
    "import os\n",
    "import pandas as pd\n",
    "import joblib\n",
    "from category_encoders import TargetEncoder\n",
    "\n",
    "from src.churn import logging\n",
    "\n",
    "\n",
    "from sklearn.model_selection import train_test_split\n",
    "from sklearn.compose import ColumnTransformer\n",
    "from sklearn.pipeline import Pipeline\n",
    "from sklearn.impute import SimpleImputer\n",
    "from sklearn.preprocessing import MinMaxScaler\n",
    "from sklearn.preprocessing import LabelEncoder\n",
    "\n",
    "\n"
   ]
  },
  {
   "cell_type": "code",
   "execution_count": null,
   "metadata": {},
   "outputs": [],
   "source": [
    "class DataTransformation:\n",
    "    def __init__(self, df):\n",
    "        self.df = df\n",
    "        self.train, self.test = train_test_split(self.df, test_size=0.7, random_state=42)\n",
    "\n",
    "    def encoding(self):\n",
    "        le = LabelEncoder()\n",
    "        for col in self.train.columns:\n",
    "            if self.train[col].dtype == 'object':\n",
    "                # If 2 or fewer unique categories\n",
    "                if len(list(self.train[col].unique())) <= 2:\n",
    "                    # Train on the training data\n",
    "                    le.fit(self.train[col])\n",
    "                    # Transform both training and testing data\n",
    "                    self.train[col] = le.transform(self.train[col])\n",
    "                    self.test[col] = le.transform(self.test[col])\n",
    "                    \n",
    "                    le_count += 1\n",
    "                    \n",
    "            print('%d columns were label encoded.' % le_count)\n",
    "        self.train = pd.get_dummies(self.train)\n",
    "        self.test = pd.get_dummies(self.test)\n",
    "        self.train, self.test = self.train.align(self.test, join = 'inner', axis = 1)\n",
    "\n",
    "    \n",
    "    \n",
    "    "
   ]
  }
 ],
 "metadata": {
  "language_info": {
   "name": "python"
  }
 },
 "nbformat": 4,
 "nbformat_minor": 2
}
